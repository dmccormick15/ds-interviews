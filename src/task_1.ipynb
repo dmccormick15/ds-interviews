{
 "cells": [
  {
   "cell_type": "markdown",
   "metadata": {},
   "source": [
    "# Task 1 - Development Tools Documentation\n",
    "\n",
    "This documentation presents the tools and processes for how the assignment was completed. All code was developed with the intention of being reproducible. \n",
    "\n",
    "## Development Environment\n",
    "\n",
    "- **Editor/IDE**: Visual Studio Code (VSCode)\n",
    "  - I cloned my forked repository (from the initial link) locally to replicate the folder structure.\n",
    "  - Used VSCode's integrated terminal for running commands and managing the environment.\n",
    "\n",
    "## Virtual Environment\n",
    "\n",
    "- **Python Version**: 3.9.13\n",
    "- **Virtual Environment**: Created a virtual environment in the parent directory named `.venv`.\n",
    "  - Activated the virtual environment for library installation.\n",
    "  - Modified `.gitignore` to exclude `.venv` from being tracked. Also modified .gitignore to include tracking of Jupyter notebooks (extension .ipynb)\n",
    "\n",
    "### Steps for Virtual Environment Setup:\n",
    "1. Created the virtual environment using the following command:\n",
    "   ```bash\n",
    "   python -m venv .venv\n",
    "2. Activate the virtual environment\n",
    "   ```bash\n",
    "   .venv\\Scripts\\activate\n",
    "\n"
   ]
  },
  {
   "cell_type": "markdown",
   "metadata": {},
   "source": [
    "## Version Control\n",
    "\n",
    "- **Version Control System**: Using Git and GitHub\n",
    "  - Committed changes to GitHub.\n",
    "    - ```bash\n",
    "      git add <file>\n",
    "    - ```bash\n",
    "      git commit -m \"message here\"\n",
    "    - ```bash\n",
    "      git push origin <branch>\n",
    "      - in my case, pushed to main (not standard procedure)\n",
    "  - Initial commit included a message documenting which tasks were started.\n",
    "\n",
    "### `.gitignore` Modifications:\n",
    "\n",
    "- **Tracked**: `.ipynb` files (Jupyter notebooks).\n",
    "- **Ignored**: `.venv` directory to avoid including the virtual environment in version control.\n"
   ]
  },
  {
   "cell_type": "markdown",
   "metadata": {},
   "source": [
    "## Package Management\n",
    "\n",
    "- **Requirements File**: Created a `requirements.txt` file with the following libraries:\n",
    "  - `pandas`\n",
    "  - `numpy`\n",
    "  - `scikit-learn`\n",
    "  - `matplotlib`\n",
    "  - `seaborn`\n",
    "  - `tensorflow`\n",
    "\n",
    "- Installed all packages to the virtual environment using:\n",
    "  ```bash\n",
    "  pip install -r requirements.txt\n"
   ]
  },
  {
   "cell_type": "markdown",
   "metadata": {},
   "source": []
  }
 ],
 "metadata": {
  "language_info": {
   "name": "python"
  }
 },
 "nbformat": 4,
 "nbformat_minor": 2
}
